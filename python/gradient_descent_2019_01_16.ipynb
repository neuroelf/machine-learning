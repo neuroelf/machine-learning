{
 "cells": [
  {
   "cell_type": "markdown",
   "metadata": {},
   "source": [
    "# Python Weekly Project Night\n",
    "\n",
    "## Translating MATLAB code for gradient descent solution for simple regression into python"
   ]
  },
  {
   "cell_type": "markdown",
   "metadata": {},
   "source": [
    "First, the necessary libraries are imported\n",
    "\n",
    "1. math (for functions such as fabs, ceil, log2, etc.)\n",
    "2. numpy (for ndarray and associated functions)\n",
    "3. matplotlib.pyplot (for plotting the theta and cost function values across iterations)"
   ]
  },
  {
   "cell_type": "code",
   "execution_count": 1,
   "metadata": {},
   "outputs": [],
   "source": [
    "# import libraries\n",
    "import math\n",
    "import numpy as np\n",
    "import matplotlib.pyplot as plt"
   ]
  },
  {
   "cell_type": "markdown",
   "metadata": {},
   "source": [
    "Next, a brief function is defined which can replace\n",
    "sum() or numpy.sum() for relatively short\n",
    "single-column arrays (< 1000 elements!)."
   ]
  },
  {
   "cell_type": "code",
   "execution_count": 2,
   "metadata": {},
   "outputs": [],
   "source": [
    "# JIT summing function (faster for short! ndarray[m])\n",
    "from numba import jit\n",
    "@jit('f8(f8[:])', nopython=True)\n",
    "def jit_array_sum(column_array):\n",
    "    '''\n",
    "    jit_array_sum computes the sum over a one-dimensional\n",
    "    column_array, which means the input must be of shape (m,)\n",
    "    '''\n",
    "    s = np.float64(0.0)\n",
    "    for idx in range(column_array.size):\n",
    "        s += column_array[idx]\n",
    "    return s"
   ]
  },
  {
   "cell_type": "markdown",
   "metadata": {},
   "source": [
    "Then, the function is defined that computes the\n",
    "cost of the regression."
   ]
  },
  {
   "cell_type": "code",
   "execution_count": 3,
   "metadata": {},
   "outputs": [],
   "source": [
    "# define function that computes regression error\n",
    "def rcost(theta, x, y):\n",
    "    \"\"\"\n",
    "    rcost computes the cost function for the regression\n",
    "    linear regression error e = y - x * theta, such that\n",
    "    cost = (1 / (2 * m)) * sum(e ** 2)\n",
    "    with m being the length of e (number of samples).\n",
    "    \n",
    "    input parameters:\n",
    "        theta   - weights for the columns in x\n",
    "        x       - design matrix\n",
    "        y       - observed output\n",
    "    \"\"\"\n",
    "        \n",
    "    # compute prediction\n",
    "    p = np.matmul(x, theta)\n",
    "    \n",
    "    # compute error\n",
    "    e = (y - p)\n",
    "    \n",
    "    # compute cost\n",
    "    return (1 / (2 * e.size)) * jit_array_sum(np.multiply(e, e))\n"
   ]
  },
  {
   "cell_type": "markdown",
   "metadata": {},
   "source": [
    "Next, the function to compute the gradient of a\n",
    "function w.r.t. the theta parameters is defined."
   ]
  },
  {
   "cell_type": "code",
   "execution_count": 4,
   "metadata": {},
   "outputs": [],
   "source": [
    "# define function that computes gradient\n",
    "def fgrad(fun, theta, *args):\n",
    "    \"\"\"\n",
    "    fgrad computes the gradient of function fun with respect\n",
    "    to the parameters theta, using additional arguments.\n",
    "    \n",
    "    theta must be a ndarray with single indexing\n",
    "    \"\"\"\n",
    "    \n",
    "    # create theta copy for manipulation\n",
    "    theta_copy = theta.copy()\n",
    "    \n",
    "    # create copy for gradients\n",
    "    theta_grads = theta.copy()\n",
    "    \n",
    "    # loop over theta parameters\n",
    "    for ti in range(theta.size):\n",
    "        \n",
    "        # compute steps for gradient based on magnitude\n",
    "        m = max(-20., math.ceil(math.log2(math.fabs(theta[ti]) + 2.3e-16)) - 10.)\n",
    "        g = math.pow(2., m)\n",
    "        theta_copy[ti] = theta[ti] - g\n",
    "        cost_down = fun(theta_copy, x, y)\n",
    "        theta_copy[ti] = theta[ti] + g\n",
    "        cost_up = fun(theta_copy, x, y)\n",
    "        theta_copy[ti] = theta[ti]\n",
    "        \n",
    "        # compute gradient\n",
    "        theta_grads[ti] = (cost_up - cost_down) / (2 * g)\n",
    "        \n",
    "    # return gradient\n",
    "    return theta_grads\n"
   ]
  },
  {
   "cell_type": "markdown",
   "metadata": {},
   "source": [
    "And finally, the function performing gradient descent is defined"
   ]
  },
  {
   "cell_type": "code",
   "execution_count": 5,
   "metadata": {},
   "outputs": [],
   "source": [
    "# define function that searches gradient\n",
    "def gdesc(fun, theta, x, y, learning_rate = 0.1, maxiter = 500):\n",
    "    \n",
    "    # create theta_copy\n",
    "    theta_copy = theta.copy()\n",
    "    \n",
    "    # compute initial cost\n",
    "    cost0 = fun(theta, x, y)\n",
    "    \n",
    "    # stopping criterion\n",
    "    stopc = 1.0e-15\n",
    "    \n",
    "    # values over time\n",
    "    theta_vals = np.empty((maxiter, theta.size))\n",
    "    cost_vals = np.empty((maxiter, 1))\n",
    "    theta_vals[:] = np.nan\n",
    "    cost_vals[:] = np.nan\n",
    "    \n",
    "    # iterate\n",
    "    iter = 0;\n",
    "    while iter < maxiter:\n",
    "        \n",
    "        # store values\n",
    "        theta_vals[iter, :] = theta_copy[:]\n",
    "        cost_vals[iter] = cost0\n",
    "\n",
    "        # compute gradients\n",
    "        theta_grads = fgrad(fun, theta_copy, x, y)\n",
    "        \n",
    "        # update theta based on learning rate\n",
    "        for ti in range(theta.size):\n",
    "            theta_copy[ti] = theta_copy[ti] - learning_rate * theta_grads[ti]\n",
    "        \n",
    "        # compute new cost\n",
    "        cost = fun(theta_copy, x, y)\n",
    "        \n",
    "        # if difference smaller criterion\n",
    "        if math.fabs(cost0 - cost) < stopc:\n",
    "            break\n",
    "        \n",
    "        # update cost\n",
    "        cost0 = cost\n",
    "        iter = iter + 1\n",
    "    \n",
    "    # store last value?\n",
    "    if iter < maxiter:\n",
    "        theta_vals[iter, :] = theta_copy.reshape((1, theta_copy.size))\n",
    "        cost_vals[iter] = cost\n",
    "\n",
    "    # return theta_copy and theta_vals\n",
    "    return (theta_copy, theta_vals, cost_vals)\n",
    "    "
   ]
  },
  {
   "cell_type": "markdown",
   "metadata": {},
   "source": [
    "The example uses theta initialized to (0, 0),\n",
    "and a design matrix with a constant (all-1) column,\n",
    "and a column of random numbers. The output variable,\n",
    "y, is assigned a combination of these, plus additional\n",
    "random noise."
   ]
  },
  {
   "cell_type": "code",
   "execution_count": 6,
   "metadata": {},
   "outputs": [],
   "source": [
    "# assign some values\n",
    "t = np.zeros(2,)\n",
    "x = np.empty([50, 2])\n",
    "x[:, 0] = 1\n",
    "x[:, 1] = np.random.randn(50)\n",
    "y = (np.random.rand(1,) + np.random.rand(1,) * x[:, 1]) + np.random.randn(50)"
   ]
  },
  {
   "cell_type": "markdown",
   "metadata": {},
   "source": [
    "Then the function is tested, and the final_t (theta) values are printed out."
   ]
  },
  {
   "cell_type": "code",
   "execution_count": 7,
   "metadata": {},
   "outputs": [
    {
     "name": "stdout",
     "output_type": "stream",
     "text": [
      "[0.30579535 0.12956253]\n"
     ]
    }
   ],
   "source": [
    "# find thetas\n",
    "final_t, t_vals, c_vals = gdesc(rcost, t, x, y)\n",
    "\n",
    "# print final_t\n",
    "print(final_t)"
   ]
  },
  {
   "cell_type": "markdown",
   "metadata": {},
   "source": [
    "And the theta and cost function values across iterations can be easily plotted."
   ]
  },
  {
   "cell_type": "code",
   "execution_count": 8,
   "metadata": {},
   "outputs": [
    {
     "data": {
      "image/png": "[encoded data removed]",
      "text/plain": [
       "<Figure size 480x320 with 2 Axes>"
      ]
     },
     "metadata": {},
     "output_type": "display_data"
    }
   ],
   "source": [
    "# set some plotting parameters (font size)\n",
    "plt.rcParams.update({'font.size': 12})\n",
    "\n",
    "# start a figure\n",
    "plt.figure(num=None, figsize=(6, 4), dpi=80, facecolor='w', edgecolor='k')\n",
    "\n",
    "# plot (with two sub-plots)\n",
    "plt.subplot(2, 1, 1)\n",
    "plt.plot(t_vals)\n",
    "plt.title('Theta values / iteration')\n",
    "plt.ylabel('theta')\n",
    "\n",
    "plt.subplot(2, 1, 2)\n",
    "plt.plot(c_vals)\n",
    "plt.xlabel('iteration number')\n",
    "plt.ylabel('cost function')\n",
    "plt.show()"
   ]
  },
  {
   "cell_type": "markdown",
   "metadata": {},
   "source": [
    "Here, a function is defined that performs the steps\n",
    "above so that they can be called with a single line."
   ]
  },
  {
   "cell_type": "code",
   "execution_count": 9,
   "metadata": {},
   "outputs": [],
   "source": [
    "# define a function that does everything\n",
    "def test_gradient_descent(numiter=1000):\n",
    "    \n",
    "    # loop\n",
    "    for liter in range(numiter):\n",
    "        \n",
    "        # assign some values\n",
    "        t = np.zeros(2,)\n",
    "        x = np.empty([50, 2])\n",
    "        x[:, 0] = 1\n",
    "        x[:, 1] = np.random.randn(50)\n",
    "        y = (np.random.rand(1,) + np.random.rand(1,) * x[:, 1]) + np.random.randn(50)\n",
    "    \n",
    "        # run function\n",
    "        final_t, t_vals, c_vals = gdesc(rcost, t, x, y)"
   ]
  },
  {
   "cell_type": "markdown",
   "metadata": {},
   "source": [
    "And we can measure the (average) time it takes for the function to complete"
   ]
  },
  {
   "cell_type": "code",
   "execution_count": 10,
   "metadata": {},
   "outputs": [
    {
     "data": {
      "text/plain": [
       "7.263578317"
      ]
     },
     "execution_count": 10,
     "metadata": {},
     "output_type": "execute_result"
    }
   ],
   "source": [
    "# time it\n",
    "import timeit\n",
    "\n",
    "timeit.timeit(test_gradient_descent, number=1)"
   ]
  },
  {
   "cell_type": "markdown",
   "metadata": {},
   "source": [
    "Or profile it, which prints much more information\n",
    "as to which calls are the most \"expensive\" ones:"
   ]
  },
  {
   "cell_type": "code",
   "execution_count": 11,
   "metadata": {},
   "outputs": [
    {
     "name": "stdout",
     "output_type": "stream",
     "text": [
      "         8539047 function calls in 11.046 seconds\n",
      "\n",
      "   Ordered by: standard name\n",
      "\n",
      "   ncalls  tottime  percall  cumtime  percall filename:lineno(function)\n",
      "  1470835    0.515    0.000    0.515    0.000 <ipython-input-2-28b92ddc224b>:3(jit_array_sum)\n",
      "  1470835    4.754    0.000    6.694    0.000 <ipython-input-3-dc4ad545d749>:2(rcost)\n",
      "   293967    2.377    0.000    8.518    0.000 <ipython-input-4-94a0f2499bb7>:2(fgrad)\n",
      "     1000    1.134    0.001   11.018    0.011 <ipython-input-5-c23b3f97cafb>:2(gdesc)\n",
      "        1    0.016    0.016   11.046   11.046 <ipython-input-9-632cdf7d7ad9>:2(test_gradient_descent)\n",
      "        1    0.000    0.000   11.046   11.046 <string>:1(<module>)\n",
      "        1    0.000    0.000   11.046   11.046 {built-in method builtins.exec}\n",
      "   587934    0.156    0.000    0.156    0.000 {built-in method builtins.max}\n",
      "   587934    0.117    0.000    0.117    0.000 {built-in method math.ceil}\n",
      "   881901    0.112    0.000    0.112    0.000 {built-in method math.fabs}\n",
      "   587934    0.091    0.000    0.091    0.000 {built-in method math.log2}\n",
      "   587934    0.122    0.000    0.122    0.000 {built-in method math.pow}\n",
      "     3000    0.002    0.000    0.002    0.000 {built-in method numpy.core.multiarray.empty}\n",
      "  1470835    1.425    0.000    1.425    0.000 {built-in method numpy.core.multiarray.matmul}\n",
      "     1000    0.002    0.000    0.002    0.000 {built-in method numpy.core.multiarray.zeros}\n",
      "   588934    0.213    0.000    0.213    0.000 {method 'copy' of 'numpy.ndarray' objects}\n",
      "        1    0.000    0.000    0.000    0.000 {method 'disable' of '_lsprof.Profiler' objects}\n",
      "     2000    0.002    0.000    0.002    0.000 {method 'rand' of 'mtrand.RandomState' objects}\n",
      "     2000    0.007    0.000    0.007    0.000 {method 'randn' of 'mtrand.RandomState' objects}\n",
      "     1000    0.001    0.000    0.001    0.000 {method 'reshape' of 'numpy.ndarray' objects}\n",
      "\n",
      "\n"
     ]
    }
   ],
   "source": [
    "# profiling\n",
    "import cProfile\n",
    "cProfile.run('test_gradient_descent()')\n"
   ]
  },
  {
   "cell_type": "markdown",
   "metadata": {},
   "source": [
    "Comparing the different summing functions"
   ]
  },
  {
   "cell_type": "code",
   "execution_count": 12,
   "metadata": {},
   "outputs": [
    {
     "name": "stdout",
     "output_type": "stream",
     "text": [
      "87.5 µs ± 2.09 µs per loop (mean ± std. dev. of 7 runs, 10000 loops each)\n"
     ]
    }
   ],
   "source": [
    "# possibly redefine y\n",
    "y = np.random.randn(1000,)\n",
    "%timeit sum(y)"
   ]
  },
  {
   "cell_type": "code",
   "execution_count": 13,
   "metadata": {},
   "outputs": [
    {
     "name": "stdout",
     "output_type": "stream",
     "text": [
      "3.77 µs ± 86.9 ns per loop (mean ± std. dev. of 7 runs, 100000 loops each)\n"
     ]
    }
   ],
   "source": [
    "%timeit np.sum(y)"
   ]
  },
  {
   "cell_type": "code",
   "execution_count": 14,
   "metadata": {},
   "outputs": [
    {
     "name": "stdout",
     "output_type": "stream",
     "text": [
      "1.1 µs ± 8.5 ns per loop (mean ± std. dev. of 7 runs, 1000000 loops each)\n"
     ]
    }
   ],
   "source": [
    "%timeit jit_array_sum(y)"
   ]
  }
 ],
 "metadata": {
  "kernelspec": {
   "display_name": "Python 3",
   "language": "python",
   "name": "python3"
  },
  "language_info": {
   "codemirror_mode": {
    "name": "ipython",
    "version": 3
   },
   "file_extension": ".py",
   "mimetype": "text/x-python",
   "name": "python",
   "nbconvert_exporter": "python",
   "pygments_lexer": "ipython3",
   "version": "3.7.1"
  }
 },
 "nbformat": 4,
 "nbformat_minor": 2
}
