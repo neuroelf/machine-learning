{
 "cells": [
  {
   "cell_type": "markdown",
   "metadata": {},
   "source": [
    "# Python Weekly Project Night\n",
    "\n",
    "## Translating MATLAB code for gradient descent solution for simple regression into python"
   ]
  },
  {
   "cell_type": "markdown",
   "metadata": {},
   "source": [
    "Some setting (put at the top for ease of changing)"
   ]
  },
  {
   "cell_type": "code",
   "execution_count": 1,
   "metadata": {},
   "outputs": [],
   "source": [
    "# size of sample (random) dataset\n",
    "dataset_m = 50"
   ]
  },
  {
   "cell_type": "markdown",
   "metadata": {},
   "source": [
    "First, the necessary libraries are imported\n",
    "\n",
    "1. math (for functions such as fabs, ceil, log2, etc.)\n",
    "2. numpy (for ndarray and associated functions)\n",
    "3. matplotlib.pyplot (for plotting the theta and cost function values across iterations)"
   ]
  },
  {
   "cell_type": "code",
   "execution_count": 2,
   "metadata": {},
   "outputs": [],
   "source": [
    "# import libraries\n",
    "import math\n",
    "import numpy as np\n",
    "import matplotlib.pyplot as plt"
   ]
  },
  {
   "cell_type": "markdown",
   "metadata": {},
   "source": [
    "Next, a brief function is defined which can replace\n",
    "sum() or numpy.sum() for relatively short\n",
    "single-column arrays (< 1000 elements!)."
   ]
  },
  {
   "cell_type": "code",
   "execution_count": 3,
   "metadata": {},
   "outputs": [],
   "source": [
    "# JIT summing function (faster for short! ndarray[m])\n",
    "from numba import jit\n",
    "@jit('f8(f8[:])', nopython=True)\n",
    "def jit_array_sum(column_array):\n",
    "    \"\"\"\n",
    "    jit_array_sum computes the sum over a one-dimensional\n",
    "    column_array, which means the input must be of shape (m,)\n",
    "    \n",
    "    input parameters:\n",
    "        carray  - column ndarray of type float64, size [m,]\n",
    "    \n",
    "    output:\n",
    "        s       - float64 sum\n",
    "    \"\"\"\n",
    "    \n",
    "    # bypass? this in itself costs almost nothing!\n",
    "    if column_array.size > 2000:\n",
    "        return np.sum(column_array)\n",
    "    \n",
    "    # initialize s\n",
    "    s = np.float64(0.0)\n",
    "    \n",
    "    # loop over values\n",
    "    for idx in range(column_array.size):\n",
    "        s += column_array[idx]\n",
    "    \n",
    "    # return sum\n",
    "    return s"
   ]
  },
  {
   "cell_type": "markdown",
   "metadata": {},
   "source": [
    "Here's a function that computes the prediction for a linear regression:"
   ]
  },
  {
   "cell_type": "code",
   "execution_count": 4,
   "metadata": {},
   "outputs": [],
   "source": [
    "# define function that computes linear regression\n",
    "# prediction, given theta and x\n",
    "def linear_regression_prediction(theta, X):\n",
    "    \"\"\"\n",
    "    linear_regression_prediction returns the [m,] vector\n",
    "    of predicted values given theta and X as the result of\n",
    "    the matrix multiplication X * theta (or where for each\n",
    "    value of the prediction theta.T * x, where x is the\n",
    "    [n+1,] feature vector of a single sample).\n",
    "    \n",
    "    input parameters:\n",
    "        theta   - weights for the columns in X\n",
    "        X       - design matrix (column of 1's and features)\n",
    "    \n",
    "    output:\n",
    "        p_y     - predicted values for y\n",
    "    \n",
    "    note: ideally, features will already be normalized!\n",
    "    \"\"\"\n",
    "    \n",
    "    # return prediction\n",
    "    return np.matmul(X, theta)"
   ]
  },
  {
   "cell_type": "markdown",
   "metadata": {},
   "source": [
    "Then, the function is defined that computes the\n",
    "cost of the regression."
   ]
  },
  {
   "cell_type": "code",
   "execution_count": 5,
   "metadata": {},
   "outputs": [],
   "source": [
    "# define function that computes regression error\n",
    "def linear_regression_cost(theta, X, y):\n",
    "    \"\"\"\n",
    "    linear_regression_cost computes the cost function for\n",
    "    the linear regression error e = y - X * theta, such\n",
    "    that the cost = (1 / (2 * m)) * sum(e ** 2), with m\n",
    "    being the length of e (number of samples).\n",
    "    \n",
    "    input parameters:\n",
    "        theta   - weights for the columns in X\n",
    "        X       - design matrix (column of 1's and features)\n",
    "        y       - observed output\n",
    "    \n",
    "    output:\n",
    "        J       - linear regression cost J\n",
    "    \"\"\"\n",
    "        \n",
    "    # compute error\n",
    "    e = (y - linear_regression_prediction(theta, X))\n",
    "    \n",
    "    # compute cost\n",
    "    return (1 / (2 * e.size)) * jit_array_sum(np.multiply(e, e))\n"
   ]
  },
  {
   "cell_type": "markdown",
   "metadata": {},
   "source": [
    "Next, the function to compute the gradient of a\n",
    "function w.r.t. the theta parameters is defined."
   ]
  },
  {
   "cell_type": "code",
   "execution_count": 6,
   "metadata": {},
   "outputs": [],
   "source": [
    "# define function that computes partial gradients\n",
    "def pgrads_of_fun_for_theta(fun, theta, *args):\n",
    "    \"\"\"\n",
    "    pgrads_of_fun_for_theta computes the partial gradients of\n",
    "    function fun with respect to each of the parameters in\n",
    "    theta, passing on additional arguments to fun.\n",
    "    \n",
    "    input parameters:\n",
    "        fun     - function object receiving (theta [, *args])\n",
    "        theta   - must be a [m,] ndarray with single indexing\n",
    "        *args   - additional arguments passed into fun\n",
    "    \n",
    "    output parameters:\n",
    "        pgrads  - partial gradients for each theta parameter\n",
    "    \"\"\"\n",
    "    \n",
    "    # create copy for gradients and temporary theta vector\n",
    "    pgrads = theta.copy()\n",
    "    theta_copy = theta.copy()\n",
    "    \n",
    "    # compute step size for gradient computation\n",
    "    g = 2.0 ** np.maximum(np.ceil(np.log2(np.fabs(theta) + 2.3e-16)) - 10.0, -20.0)\n",
    "    \n",
    "    # compute lower and upper values for theta\n",
    "    theta_down = theta - g\n",
    "    theta_up = theta + g\n",
    "    \n",
    "    # loop over theta parameters\n",
    "    for ti in range(theta.size):\n",
    "        \n",
    "        # compute steps for gradient based on magnitude\n",
    "        theta_copy[ti] = theta_down[ti]\n",
    "        cost_down = fun(theta_copy, *args)\n",
    "        theta_copy[ti] = theta_up[ti]\n",
    "        cost_up = fun(theta_copy, *args)\n",
    "        theta_copy[ti] = theta[ti]\n",
    "        \n",
    "        # compute gradient\n",
    "        pgrads[ti] = (cost_up - cost_down) / (2 * g[ti])\n",
    "        \n",
    "    # return gradient\n",
    "    return pgrads\n"
   ]
  },
  {
   "cell_type": "markdown",
   "metadata": {},
   "source": [
    "And finally, the function performing gradient descent is defined"
   ]
  },
  {
   "cell_type": "code",
   "execution_count": 7,
   "metadata": {},
   "outputs": [],
   "source": [
    "# define function that searches gradient\n",
    "def gradient_desc(fun, theta, *args, learning_rate = 0.1, maxiter = 500):\n",
    "    \"\"\"\n",
    "    \"\"\"\n",
    "    # create theta_copy\n",
    "    theta_copy = theta.copy()\n",
    "    \n",
    "    # compute initial cost\n",
    "    cost0 = fun(theta, *args)\n",
    "    \n",
    "    # stopping criterion\n",
    "    stopc = 1.0e-15\n",
    "    \n",
    "    # values over time\n",
    "    theta_vals = np.empty((maxiter, theta.size))\n",
    "    cost_vals = np.empty((maxiter, 1))\n",
    "    theta_vals[:] = np.nan\n",
    "    cost_vals[:] = np.nan\n",
    "    \n",
    "    # iterate\n",
    "    iter = 0;\n",
    "    while iter < maxiter:\n",
    "        \n",
    "        # store values\n",
    "        theta_vals[iter, :] = theta_copy\n",
    "        cost_vals[iter] = cost0\n",
    "\n",
    "        # compute gradients\n",
    "        theta_grads = pgrads_of_fun_for_theta(fun, theta_copy, *args)\n",
    "        \n",
    "        # update theta based on learning rate\n",
    "        theta_copy = theta_copy - learning_rate * theta_grads\n",
    "        \n",
    "        # compute new cost\n",
    "        cost = fun(theta_copy, *args)\n",
    "        \n",
    "        # if difference smaller criterion\n",
    "        if math.fabs(cost0 - cost) < stopc:\n",
    "            break\n",
    "        \n",
    "        # update cost\n",
    "        cost0 = cost\n",
    "        iter = iter + 1\n",
    "    \n",
    "    # store last value?\n",
    "    if iter < maxiter:\n",
    "        theta_vals[iter, :] = theta_copy\n",
    "        cost_vals[iter] = cost\n",
    "\n",
    "    # return theta_copy and theta_vals\n",
    "    return (theta_copy, theta_vals, cost_vals)\n",
    "    "
   ]
  },
  {
   "cell_type": "markdown",
   "metadata": {},
   "source": [
    "The example uses theta initialized to (0, 0),\n",
    "and a design matrix with a constant (all-1) column,\n",
    "and a column of random numbers. The output variable,\n",
    "y, is assigned a combination of these, plus additional\n",
    "random noise."
   ]
  },
  {
   "cell_type": "code",
   "execution_count": 8,
   "metadata": {},
   "outputs": [],
   "source": [
    "# assign some values\n",
    "t = np.zeros(2,)\n",
    "X = np.empty([dataset_m, 2])\n",
    "X[:, 0] = 1\n",
    "X[:, 1] = np.random.randn(dataset_m)\n",
    "y = (np.random.randn(1,) + (0.5 + np.random.rand(1,)) * X[:, 1]) + np.random.randn(dataset_m)"
   ]
  },
  {
   "cell_type": "markdown",
   "metadata": {},
   "source": [
    "Then the function is tested, and the final_t (theta) values are printed out."
   ]
  },
  {
   "cell_type": "code",
   "execution_count": 9,
   "metadata": {},
   "outputs": [
    {
     "name": "stdout",
     "output_type": "stream",
     "text": [
      "[1.97309576 0.64996815]\n"
     ]
    }
   ],
   "source": [
    "# find thetas\n",
    "final_t, t_vals, c_vals = gradient_desc(linear_regression_cost, t, X, y)\n",
    "\n",
    "# print final_t\n",
    "print(final_t)"
   ]
  },
  {
   "cell_type": "markdown",
   "metadata": {},
   "source": [
    "And the theta and cost function values across iterations can be easily plotted."
   ]
  },
  {
   "cell_type": "code",
   "execution_count": 10,
   "metadata": {},
   "outputs": [
    {
     "data": {
      "image/png": "[encoded data removed]",
      "text/plain": [
       "<Figure size 480x320 with 2 Axes>"
      ]
     },
     "metadata": {},
     "output_type": "display_data"
    }
   ],
   "source": [
    "# set some plotting parameters (font size)\n",
    "plt.rcParams.update({'font.size': 12})\n",
    "\n",
    "# start a figure\n",
    "plt.figure(num=None, figsize=(6, 4), dpi=80, facecolor='w', edgecolor='k')\n",
    "\n",
    "# plot (with two sub-plots)\n",
    "plt.subplot(2, 1, 1)\n",
    "plt.plot(t_vals)\n",
    "plt.title('Theta values / iteration')\n",
    "plt.ylabel('theta')\n",
    "\n",
    "plt.subplot(2, 1, 2)\n",
    "plt.plot(c_vals)\n",
    "plt.xlabel('iteration number')\n",
    "plt.ylabel('cost function')\n",
    "plt.show()"
   ]
  },
  {
   "cell_type": "markdown",
   "metadata": {},
   "source": [
    "Here, a function is defined that performs the steps\n",
    "above so that they can be called with a single line."
   ]
  },
  {
   "cell_type": "code",
   "execution_count": 11,
   "metadata": {},
   "outputs": [],
   "source": [
    "# define a function that does everything\n",
    "def test_gradient_descent(numiter=1000):\n",
    "    \n",
    "    # loop\n",
    "    for liter in range(numiter):\n",
    "        \n",
    "        # assign some values\n",
    "        t = np.zeros(2,)\n",
    "        X = np.empty([dataset_m, 2])\n",
    "        X[:, 0] = 1\n",
    "        X[:, 1] = np.random.randn(dataset_m)\n",
    "        y = (np.random.randn(1,) + (0.5 + np.random.rand(1,)) * X[:, 1]) + np.random.randn(dataset_m)\n",
    "    \n",
    "        # run function\n",
    "        final_t, t_vals, c_vals = gradient_desc(linear_regression_cost, t, X, y)"
   ]
  },
  {
   "cell_type": "markdown",
   "metadata": {},
   "source": [
    "And we can measure the (average) time it takes for the function to complete"
   ]
  },
  {
   "cell_type": "code",
   "execution_count": 12,
   "metadata": {},
   "outputs": [
    {
     "data": {
      "text/plain": [
       "5.125304423999999"
      ]
     },
     "execution_count": 12,
     "metadata": {},
     "output_type": "execute_result"
    }
   ],
   "source": [
    "# time it\n",
    "import timeit\n",
    "\n",
    "timeit.timeit(test_gradient_descent, number=1)"
   ]
  },
  {
   "cell_type": "markdown",
   "metadata": {},
   "source": [
    "Or profile it, which prints much more information\n",
    "as to which calls are the most \"expensive\" ones:"
   ]
  },
  {
   "cell_type": "code",
   "execution_count": 13,
   "metadata": {},
   "outputs": [
    {
     "name": "stdout",
     "output_type": "stream",
     "text": [
      "         4362708 function calls in 7.056 seconds\n",
      "\n",
      "   Ordered by: standard name\n",
      "\n",
      "   ncalls  tottime  percall  cumtime  percall filename:lineno(function)\n",
      "        1    0.016    0.016    7.056    7.056 <ipython-input-11-122cabaeeed0>:2(test_gradient_descent)\n",
      "   906980    0.283    0.000    0.283    0.000 <ipython-input-3-8fdff92304bf>:3(jit_array_sum)\n",
      "   906980    0.239    0.000    1.051    0.000 <ipython-input-4-b20caa36826e>:3(linear_regression_prediction)\n",
      "   906980    2.587    0.000    3.920    0.000 <ipython-input-5-e895de004027>:2(linear_regression_cost)\n",
      "   181196    2.222    0.000    5.486    0.000 <ipython-input-6-d1445e82f9e1>:2(pgrads_of_fun_for_theta)\n",
      "     1000    0.731    0.001    7.029    0.007 <ipython-input-7-742d3a587364>:2(gradient_desc)\n",
      "        1    0.000    0.000    7.056    7.056 <string>:1(<module>)\n",
      "        1    0.000    0.000    7.056    7.056 {built-in method builtins.exec}\n",
      "   181196    0.023    0.000    0.023    0.000 {built-in method math.fabs}\n",
      "     3000    0.002    0.000    0.002    0.000 {built-in method numpy.core.multiarray.empty}\n",
      "   906980    0.811    0.000    0.811    0.000 {built-in method numpy.core.multiarray.matmul}\n",
      "     1000    0.002    0.000    0.002    0.000 {built-in method numpy.core.multiarray.zeros}\n",
      "   363392    0.132    0.000    0.132    0.000 {method 'copy' of 'numpy.ndarray' objects}\n",
      "        1    0.000    0.000    0.000    0.000 {method 'disable' of '_lsprof.Profiler' objects}\n",
      "     1000    0.001    0.000    0.001    0.000 {method 'rand' of 'mtrand.RandomState' objects}\n",
      "     3000    0.008    0.000    0.008    0.000 {method 'randn' of 'mtrand.RandomState' objects}\n",
      "\n",
      "\n"
     ]
    }
   ],
   "source": [
    "# profiling\n",
    "import cProfile\n",
    "cProfile.run('test_gradient_descent()')\n"
   ]
  },
  {
   "cell_type": "markdown",
   "metadata": {},
   "source": [
    "The next set of functions is for logistic regression:"
   ]
  },
  {
   "cell_type": "code",
   "execution_count": 14,
   "metadata": {},
   "outputs": [],
   "source": [
    "# define logistic regression prediction\n",
    "def logistic_regression_prediction(theta, X):\n",
    "    \"\"\"\n",
    "    logistic_regression_prediction returns the [m,] vector\n",
    "    of predicted values given theta and X as the result of\n",
    "    passing the matrix multiplication X * theta (or where\n",
    "    for each value of the prediction theta.T * x, where x\n",
    "    is the [n+1,] feature vector of a single sample) into\n",
    "    the equation (1 / (1 + exp(X * theta)))\n",
    "    \n",
    "    input parameters:\n",
    "        theta   - weights for the columns in X\n",
    "        X       - design matrix (column of 1's and features)\n",
    "    \n",
    "    output:\n",
    "        p_y     - predicted values for y, between [0 .. 1]\n",
    "    \n",
    "    note: ideally, features will already be normalized!\n",
    "    \"\"\"\n",
    "    \n",
    "    # return prediction\n",
    "    return 1.0 / (1.0 + np.exp(-np.matmul(X, theta)))"
   ]
  },
  {
   "cell_type": "code",
   "execution_count": 15,
   "metadata": {},
   "outputs": [],
   "source": [
    "# define logistic regression cost function\n",
    "def logistic_regression_cost(theta, X, y):\n",
    "    \"\"\"\n",
    "    logistic_regression_cost computes the cost function for\n",
    "    the logistic regression, such that the cost equals the\n",
    "    mean over -log(pred(theta, X)) for y == 1 and\n",
    "    -log(1 - pred(theta, X)) for y == 0.\n",
    "    \n",
    "    input parameters:\n",
    "        theta   - weights for the columns in X\n",
    "        X       - design matrix (column of 1's and features)\n",
    "        y       - observed output (either 0 or 1 for each y[m])\n",
    "    \n",
    "    output:\n",
    "        J       - logistic regression cost J\n",
    "    \"\"\"\n",
    "    \n",
    "    # compute two terms\n",
    "    log1 = -np.log(logistic_regression_prediction(theta, X))\n",
    "    log0 = -np.log(1.0 - logistic_regression_prediction(theta, X))\n",
    "    \n",
    "    # return total cost\n",
    "    return (1.0 / log1.size) * (np.matmul(log1, y) + np.matmul(log0, 1.0 - y))"
   ]
  },
  {
   "cell_type": "markdown",
   "metadata": {},
   "source": [
    "Create a derived (logistic suitable) example data set:"
   ]
  },
  {
   "cell_type": "code",
   "execution_count": 16,
   "metadata": {},
   "outputs": [],
   "source": [
    "# assign some values\n",
    "y_mean = np.mean(y)\n",
    "y_binary = y\n",
    "y_binary[y < y_mean] = 0.0\n",
    "y_binary[y != 0.0] = 1.0"
   ]
  },
  {
   "cell_type": "code",
   "execution_count": 17,
   "metadata": {},
   "outputs": [
    {
     "name": "stdout",
     "output_type": "stream",
     "text": [
      "[0.13914977 1.01032004]\n"
     ]
    }
   ],
   "source": [
    "# find thetas\n",
    "final_t, t_vals, c_vals = gradient_desc(logistic_regression_cost, t, X, y_binary)\n",
    "\n",
    "# print final_t\n",
    "print(final_t)"
   ]
  },
  {
   "cell_type": "code",
   "execution_count": 18,
   "metadata": {},
   "outputs": [
    {
     "data": {
      "image/png": "[encoded data removed]",
      "text/plain": [
       "<Figure size 480x320 with 2 Axes>"
      ]
     },
     "metadata": {},
     "output_type": "display_data"
    }
   ],
   "source": [
    "# start a figure\n",
    "plt.figure(num=None, figsize=(6, 4), dpi=80, facecolor='w', edgecolor='k')\n",
    "\n",
    "# plot (with two sub-plots)\n",
    "plt.subplot(2, 1, 1)\n",
    "plt.plot(t_vals)\n",
    "plt.title('Theta values / iteration')\n",
    "plt.ylabel('theta')\n",
    "\n",
    "plt.subplot(2, 1, 2)\n",
    "plt.plot(c_vals)\n",
    "plt.xlabel('iteration number')\n",
    "plt.ylabel('cost function')\n",
    "plt.show()"
   ]
  },
  {
   "cell_type": "markdown",
   "metadata": {},
   "source": [
    "Scatter values of X[:,1] (feature) /vs/ y_binary"
   ]
  },
  {
   "cell_type": "code",
   "execution_count": 19,
   "metadata": {},
   "outputs": [
    {
     "data": {
      "image/png": "[encoded data removed]",
      "text/plain": [
       "<Figure size 480x240 with 1 Axes>"
      ]
     },
     "metadata": {},
     "output_type": "display_data"
    }
   ],
   "source": [
    "# start a figure\n",
    "plt.figure(num=None, figsize=(6, 3), dpi=80, facecolor='w', edgecolor='k')\n",
    "\n",
    "# plot\n",
    "plt.plot(X[:, 1], y_binary, 'rx')\n",
    "plt.title('classification example')\n",
    "plt.xlabel('feature value')\n",
    "plt.ylabel('class')\n",
    "\n",
    "# add logistic (sigmoid) function\n",
    "Xs = np.empty([1000, 2])\n",
    "Xs[:, 0] = 1\n",
    "Xs[:, 1] = np.linspace(np.min(X[:, 1]), np.max(X[:, 1]), 1000)\n",
    "plt.plot(Xs[:, 1], logistic_regression_prediction(final_t, Xs), '-k')\n",
    "plt.show()"
   ]
  }
 ],
 "metadata": {
  "kernelspec": {
   "display_name": "Python 3",
   "language": "python",
   "name": "python3"
  },
  "language_info": {
   "codemirror_mode": {
    "name": "ipython",
    "version": 3
   },
   "file_extension": ".py",
   "mimetype": "text/x-python",
   "name": "python",
   "nbconvert_exporter": "python",
   "pygments_lexer": "ipython3",
   "version": "3.7.1"
  }
 },
 "nbformat": 4,
 "nbformat_minor": 2
}
