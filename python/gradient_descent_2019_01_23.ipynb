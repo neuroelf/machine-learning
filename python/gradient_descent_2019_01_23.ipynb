{
 "cells": [
  {
   "cell_type": "markdown",
   "metadata": {},
   "source": [
    "# jupyter notebook related to __[coursera ML course](https://www.coursera.org/learn/machine-learning/)__\n",
    "\n",
    "The course uses MATLAB, and so the main task here is\n",
    "translating the MATLAB code for the various functions\n",
    "(e.g. gradient descent solution for simple regression)\n",
    "into a python equivalent.\n",
    "\n",
    "I'm adding a new version of the notebook for every\n",
    "week, as a convenience for myself to see the progress,\n",
    "rather than having to go through the history on github."
   ]
  },
  {
   "cell_type": "markdown",
   "metadata": {},
   "source": [
    "### Settings (put at the top for ease of changing)"
   ]
  },
  {
   "cell_type": "code",
   "execution_count": 1,
   "metadata": {},
   "outputs": [],
   "source": [
    "# size of sample (random) dataset\n",
    "dataset_m = 50\n",
    "\n",
    "# stopping criterion\n",
    "stop_crit = 1.0e-12\n",
    "\n",
    "# learning rate\n",
    "learn_rate = 0.1\n",
    "\n",
    "# regularization lambda\n",
    "reg_lambda = 0.5"
   ]
  },
  {
   "cell_type": "markdown",
   "metadata": {},
   "source": [
    "### Necessary libraries are imported\n",
    "\n",
    "1. math (for functions such as fabs, ceil, log2, etc.)\n",
    "2. numpy (for ndarray and associated functions)\n",
    "3. matplotlib.pyplot (for plotting the theta and cost function values across iterations)"
   ]
  },
  {
   "cell_type": "code",
   "execution_count": 2,
   "metadata": {},
   "outputs": [],
   "source": [
    "import math\n",
    "import numpy as np\n",
    "import matplotlib.pyplot as plt"
   ]
  },
  {
   "cell_type": "markdown",
   "metadata": {},
   "source": [
    "And a brief function is defined which can replace\n",
    "sum() or numpy.sum() for relatively short\n",
    "single-column arrays (<= 2000 elements!)."
   ]
  },
  {
   "cell_type": "code",
   "execution_count": 3,
   "metadata": {},
   "outputs": [],
   "source": [
    "# JIT summing function (faster for short! ndarray[m])\n",
    "from numba import jit\n",
    "@jit('f8(f8[:])', nopython=True)\n",
    "def jit_array_sum(column_array):\n",
    "    \"\"\"\n",
    "    jit_array_sum computes the sum over a one-dimensional\n",
    "    column_array, which means the input must be of shape (m,)\n",
    "    \n",
    "    input parameters:\n",
    "        carray  - column ndarray of type float64, size [m,]\n",
    "    \n",
    "    output:\n",
    "        s       - float64 sum\n",
    "    \"\"\"\n",
    "    \n",
    "    # bypass? this in itself costs almost nothing!\n",
    "    if column_array.size > 2000:\n",
    "        return np.sum(column_array)\n",
    "    \n",
    "    # initialize s\n",
    "    s = np.float64(0.0)\n",
    "    \n",
    "    # loop over values\n",
    "    for idx in range(column_array.size):\n",
    "        s += column_array[idx]\n",
    "    \n",
    "    # return sum\n",
    "    return s"
   ]
  },
  {
   "cell_type": "markdown",
   "metadata": {},
   "source": [
    "### Linear regression functions"
   ]
  },
  {
   "cell_type": "code",
   "execution_count": 4,
   "metadata": {},
   "outputs": [],
   "source": [
    "# function that computes linear regression prediction,\n",
    "# given theta and x\n",
    "def linear_regression_prediction(theta, X):\n",
    "    \"\"\"\n",
    "    linear_regression_prediction returns the [m,] vector\n",
    "    of predicted values given theta and X as the result of\n",
    "    the matrix multiplication X * theta (or where for each\n",
    "    value of the prediction theta.T * x, where x is the\n",
    "    [n+1,] feature vector of a single sample).\n",
    "    \n",
    "    input parameters:\n",
    "        theta   - weights for the columns in X\n",
    "        X       - design matrix (column of 1's and features)\n",
    "    \n",
    "    output:\n",
    "        p_y     - predicted values for y\n",
    "    \n",
    "    note: ideally, features will already be normalized!\n",
    "    \"\"\"\n",
    "    \n",
    "    # return prediction\n",
    "    return np.matmul(X, theta)"
   ]
  },
  {
   "cell_type": "code",
   "execution_count": 5,
   "metadata": {},
   "outputs": [],
   "source": [
    "# function that computes regression error, with added feature\n",
    "# to allow specifying a regularization (lambda) parameter\n",
    "def linear_regression_cost(theta, X, y, l = 0.0):\n",
    "    \"\"\"\n",
    "    linear_regression_cost computes the cost function for\n",
    "    the linear regression error e = y - X * theta, such\n",
    "    that the cost = (1 / (2 * m)) * sum(e ** 2), with m\n",
    "    being the length of e (number of samples).\n",
    "    \n",
    "    input parameters:\n",
    "        theta   - weights for the columns in X\n",
    "        X       - design matrix (column of 1's and features)\n",
    "        y       - observed output\n",
    "        [l]     - optional regularization lambda (>= 0.0)\n",
    "    \n",
    "    output:\n",
    "        J       - linear regression cost J\n",
    "        Jg      - partial derivaties (gradient) w.r.t. theta\n",
    "    \"\"\"\n",
    "        \n",
    "    # compute error\n",
    "    e = (linear_regression_prediction(theta, X) - y)\n",
    "    \n",
    "    # with lambda (regularization) <= 0\n",
    "    if l <= 0.0:\n",
    "        J = (1.0 / (2.0 * e.size)) * jit_array_sum(np.multiply(e, e))\n",
    "        Jg = (1.0 / e.size) * np.matmul(X.T, e)\n",
    "        \n",
    "    # with lambda\n",
    "    else:\n",
    "        J = (1.0 / (2.0 * e.size)) * (jit_array_sum(np.multiply(e, e)) +\n",
    "                                  l * jit_array_sum(np.multiply(theta[1:], theta[1:])))\n",
    "        tc = l * theta\n",
    "        tc[0] = 0.0\n",
    "        Jg = (1.0 / e.size) * (np.matmul(X.T, e) + tc)\n",
    "        \n",
    "    # return cost\n",
    "    return J, Jg"
   ]
  },
  {
   "cell_type": "markdown",
   "metadata": {},
   "source": [
    "A general purpose function to compute the partial\n",
    "derivatites of a function w.r.t. the theta parameters"
   ]
  },
  {
   "cell_type": "code",
   "execution_count": 6,
   "metadata": {},
   "outputs": [],
   "source": [
    "# define function that computes partial gradients\n",
    "def pgrads_of_fun_for_theta(fun, theta, *args):\n",
    "    \"\"\"\n",
    "    pgrads_of_fun_for_theta computes the partial gradients of\n",
    "    function fun with respect to each of the parameters in\n",
    "    theta, passing on additional arguments to fun.\n",
    "    \n",
    "    input parameters:\n",
    "        fun     - function object receiving (theta [, *args])\n",
    "        theta   - must be a [m,] ndarray with single indexing\n",
    "        *args   - additional arguments passed into fun\n",
    "    \n",
    "    output parameters:\n",
    "        pgrads  - partial gradients for each theta parameter\n",
    "    \"\"\"\n",
    "    \n",
    "    # create copy for gradients and temporary theta vector\n",
    "    pgrads = theta.copy()\n",
    "    theta_copy = theta.copy()\n",
    "    \n",
    "    # compute step size for gradient computation\n",
    "    g = 2.0 ** np.maximum(np.ceil(np.log2(np.fabs(theta) + 2.3e-16)) - 10.0, -20.0)\n",
    "    \n",
    "    # compute lower and upper values for theta\n",
    "    theta_down = theta - g\n",
    "    theta_up = theta + g\n",
    "    \n",
    "    # loop over theta parameters\n",
    "    for ti in range(theta.size):\n",
    "        \n",
    "        # compute steps for gradient based on magnitude\n",
    "        theta_copy[ti] = theta_down[ti]\n",
    "        cost_down = fun(theta_copy, *args)\n",
    "        theta_copy[ti] = theta_up[ti]\n",
    "        cost_up = fun(theta_copy, *args)\n",
    "        theta_copy[ti] = theta[ti]\n",
    "        \n",
    "        # compute gradient\n",
    "        pgrads[ti] = (cost_up - cost_down) / (2 * g[ti])\n",
    "        \n",
    "    # return gradient\n",
    "    return pgrads\n"
   ]
  },
  {
   "cell_type": "markdown",
   "metadata": {},
   "source": [
    "And finally, the function performing gradient descent is defined"
   ]
  },
  {
   "cell_type": "code",
   "execution_count": 7,
   "metadata": {},
   "outputs": [],
   "source": [
    "# gradient descent for a cost-function\n",
    "def gradient_desc(fun, theta, *args, learning_rate = 0.1, maxiter = 500):\n",
    "    \"\"\"\n",
    "    \"\"\"\n",
    "    # create theta_copy\n",
    "    theta_copy = theta.copy()\n",
    "    \n",
    "    # compute initial cost, and figure out if gradients\n",
    "    # are returned as well\n",
    "    fun_with_grads = False\n",
    "    cost0 = fun(theta, *args)\n",
    "    if type(cost0) == tuple:\n",
    "        fun_with_grads = True\n",
    "        theta_grads = cost0[1]\n",
    "        cost0 = cost0[0]\n",
    "    else:\n",
    "        theta_grads = pgrads_of_fun_for_theta(fun, theta_copy, *args)\n",
    "    \n",
    "    # values over time\n",
    "    theta_vals = np.empty((maxiter, theta.size))\n",
    "    cost_vals = np.empty((maxiter, 1))\n",
    "    theta_vals[:] = np.nan\n",
    "    cost_vals[:] = np.nan\n",
    "    \n",
    "    # iterate\n",
    "    iter = 0;\n",
    "    while iter < maxiter:\n",
    "        \n",
    "        # store values\n",
    "        theta_vals[iter, :] = theta_copy\n",
    "        cost_vals[iter] = cost0\n",
    "\n",
    "        # update theta based on learning rate\n",
    "        theta_copy = theta_copy - learning_rate * theta_grads\n",
    "        \n",
    "        # compute new cost\n",
    "        if fun_with_grads:\n",
    "            cost = fun(theta_copy, *args)\n",
    "            theta_grads = cost[1]\n",
    "            cost = cost[0]\n",
    "        else:\n",
    "            cost = fun(theta_copy, *args)\n",
    "            theta_grads = pgrads_of_fun_for_theta(fun, theta_copy, *args)\n",
    "        \n",
    "        # if difference smaller criterion\n",
    "        if math.fabs(cost0 - cost) < stop_crit:\n",
    "            break\n",
    "        \n",
    "        # update cost\n",
    "        cost0 = cost\n",
    "        iter = iter + 1\n",
    "    \n",
    "    # store last value?\n",
    "    if iter < maxiter:\n",
    "        theta_vals[iter, :] = theta_copy\n",
    "        cost_vals[iter] = cost\n",
    "\n",
    "    # return theta_copy and theta_vals\n",
    "    return (theta_copy, theta_vals, cost_vals)\n",
    "    "
   ]
  },
  {
   "cell_type": "markdown",
   "metadata": {},
   "source": [
    "The example uses theta initialized to [0, 0],\n",
    "and a design matrix with a constant (all-1) column,\n",
    "and a column of random numbers. The output variable,\n",
    "y, is assigned a combination of these, plus additional\n",
    "random noise."
   ]
  },
  {
   "cell_type": "code",
   "execution_count": 8,
   "metadata": {},
   "outputs": [],
   "source": [
    "# assign some values\n",
    "t = np.zeros(2,)\n",
    "X = np.empty([dataset_m, 2])\n",
    "X[:, 0] = 1\n",
    "X[:, 1] = np.random.randn(dataset_m)\n",
    "y = (np.random.randn(1,) + \n",
    "     (0.5 + np.random.rand(1,)) * X[:, 1] +\n",
    "     np.random.randn(dataset_m))"
   ]
  },
  {
   "cell_type": "markdown",
   "metadata": {},
   "source": [
    "Then the function is tested, and the final_t (theta) values are printed out."
   ]
  },
  {
   "cell_type": "code",
   "execution_count": 9,
   "metadata": {},
   "outputs": [
    {
     "name": "stdout",
     "output_type": "stream",
     "text": [
      "[0.02101396 0.73721351]\n"
     ]
    }
   ],
   "source": [
    "# find thetas\n",
    "final_t, t_vals, c_vals = gradient_desc(\n",
    "    linear_regression_cost, t, X, y, reg_lambda, learning_rate=learn_rate)\n",
    "\n",
    "# print final_t\n",
    "print(final_t)"
   ]
  },
  {
   "cell_type": "code",
   "execution_count": 10,
   "metadata": {},
   "outputs": [
    {
     "name": "stdout",
     "output_type": "stream",
     "text": [
      "[0.02101249 0.73721772]\n"
     ]
    }
   ],
   "source": [
    "# comparing with normal equation solution\n",
    "if reg_lambda <= 0.0:\n",
    "    ne_theta = np.matmul(np.matmul(np.linalg.pinv(np.matmul(X.T, X)), X.T), y)\n",
    "else:\n",
    "    reg_mat = reg_lambda * np.identity(t.size)\n",
    "    reg_mat[0,0] = 0.0\n",
    "    ne_theta = np.matmul(np.matmul(np.linalg.pinv(np.matmul(X.T, X) + reg_mat), X.T), y)\n",
    "print(ne_theta)"
   ]
  },
  {
   "cell_type": "markdown",
   "metadata": {},
   "source": [
    "And the theta and cost function values across iterations can be easily plotted."
   ]
  },
  {
   "cell_type": "code",
   "execution_count": 11,
   "metadata": {},
   "outputs": [
    {
     "data": {
      "image/png": "[encoded data removed]",
      "text/plain": [
       "<Figure size 480x320 with 2 Axes>"
      ]
     },
     "metadata": {},
     "output_type": "display_data"
    }
   ],
   "source": [
    "# set some plotting parameters (font size)\n",
    "plt.rcParams.update({'font.size': 12})\n",
    "\n",
    "# start a figure\n",
    "plt.figure(num=None, figsize=(6, 4), dpi=80, facecolor='w', edgecolor='k')\n",
    "\n",
    "# plot (with two sub-plots)\n",
    "plt.subplot(2, 1, 1)\n",
    "plt.plot(t_vals)\n",
    "plt.title('Theta values / iteration')\n",
    "plt.ylabel('theta')\n",
    "\n",
    "plt.subplot(2, 1, 2)\n",
    "plt.plot(c_vals)\n",
    "plt.xlabel('iteration number')\n",
    "plt.ylabel('cost function')\n",
    "plt.show()"
   ]
  },
  {
   "cell_type": "markdown",
   "metadata": {},
   "source": [
    "Here, a function is defined that performs the steps\n",
    "above so that they can be called with a single line."
   ]
  },
  {
   "cell_type": "code",
   "execution_count": 12,
   "metadata": {},
   "outputs": [],
   "source": [
    "# define a function that does everything\n",
    "def test_gradient_descent(numiter=1000):\n",
    "    \n",
    "    # loop\n",
    "    for liter in range(numiter):\n",
    "        \n",
    "        # assign some values\n",
    "        t = np.zeros(2,)\n",
    "        X = np.empty([dataset_m, 2])\n",
    "        X[:, 0] = 1\n",
    "        X[:, 1] = np.random.randn(dataset_m)\n",
    "        y = (np.random.randn(1,) +\n",
    "             (0.5 + np.random.rand(1,)) * X[:, 1] +\n",
    "             np.random.randn(dataset_m))\n",
    "    \n",
    "        # run function\n",
    "        final_t, t_vals, c_vals = gradient_desc(\n",
    "            linear_regression_cost, t, X, y, reg_lambda, learning_rate=learn_rate)"
   ]
  },
  {
   "cell_type": "markdown",
   "metadata": {},
   "source": [
    "And we can measure the (average) time it takes for the function to complete"
   ]
  },
  {
   "cell_type": "code",
   "execution_count": 13,
   "metadata": {},
   "outputs": [
    {
     "name": "stdout",
     "output_type": "stream",
     "text": [
      "1.53 s ± 5.92 ms per loop (mean ± std. dev. of 7 runs, 1 loop each)\n"
     ]
    }
   ],
   "source": [
    "# time it\n",
    "import timeit\n",
    "\n",
    "%timeit test_gradient_descent()"
   ]
  },
  {
   "cell_type": "markdown",
   "metadata": {},
   "source": [
    "Or profile it, which prints much more information\n",
    "as to which calls are the most \"expensive\" ones:"
   ]
  },
  {
   "cell_type": "code",
   "execution_count": 14,
   "metadata": {},
   "outputs": [
    {
     "name": "stdout",
     "output_type": "stream",
     "text": [
      "         995808 function calls in 2.192 seconds\n",
      "\n",
      "   Ordered by: standard name\n",
      "\n",
      "   ncalls  tottime  percall  cumtime  percall filename:lineno(function)\n",
      "        1    0.013    0.013    2.192    2.192 <ipython-input-12-9f7c066c81fd>:2(test_gradient_descent)\n",
      "   281944    0.093    0.000    0.093    0.000 <ipython-input-3-8fdff92304bf>:3(jit_array_sum)\n",
      "   140972    0.040    0.000    0.162    0.000 <ipython-input-4-7efeae57493a>:3(linear_regression_prediction)\n",
      "   140972    1.287    0.000    1.674    0.000 <ipython-input-5-dad01d641bfe>:3(linear_regression_cost)\n",
      "     1000    0.475    0.000    2.169    0.002 <ipython-input-7-e9d1d5a8db73>:2(gradient_desc)\n",
      "        1    0.000    0.000    2.192    2.192 <string>:1(<module>)\n",
      "        1    0.000    0.000    2.192    2.192 {built-in method builtins.exec}\n",
      "   139972    0.018    0.000    0.018    0.000 {built-in method math.fabs}\n",
      "     3000    0.002    0.000    0.002    0.000 {built-in method numpy.core.multiarray.empty}\n",
      "   281944    0.254    0.000    0.254    0.000 {built-in method numpy.core.multiarray.matmul}\n",
      "     1000    0.002    0.000    0.002    0.000 {built-in method numpy.core.multiarray.zeros}\n",
      "     1000    0.001    0.000    0.001    0.000 {method 'copy' of 'numpy.ndarray' objects}\n",
      "        1    0.000    0.000    0.000    0.000 {method 'disable' of '_lsprof.Profiler' objects}\n",
      "     1000    0.001    0.000    0.001    0.000 {method 'rand' of 'mtrand.RandomState' objects}\n",
      "     3000    0.007    0.000    0.007    0.000 {method 'randn' of 'mtrand.RandomState' objects}\n",
      "\n",
      "\n"
     ]
    }
   ],
   "source": [
    "# profiling\n",
    "import cProfile\n",
    "cProfile.run('test_gradient_descent()')\n"
   ]
  },
  {
   "cell_type": "markdown",
   "metadata": {},
   "source": [
    "The next set of functions is for logistic regression:"
   ]
  },
  {
   "cell_type": "code",
   "execution_count": 15,
   "metadata": {},
   "outputs": [],
   "source": [
    "# define logistic regression prediction\n",
    "def logistic_regression_prediction(theta, X):\n",
    "    \"\"\"\n",
    "    logistic_regression_prediction returns the [m,] vector\n",
    "    of predicted values given theta and X as the result of\n",
    "    passing the matrix multiplication X * theta (or where\n",
    "    for each value of the prediction theta.T * x, where x\n",
    "    is the [n+1,] feature vector of a single sample) into\n",
    "    the equation (1 / (1 + exp(X * theta)))\n",
    "    \n",
    "    input parameters:\n",
    "        theta   - weights for the columns in X\n",
    "        X       - design matrix (column of 1's and features)\n",
    "    \n",
    "    output:\n",
    "        p_y     - predicted values for y, between [0 .. 1]\n",
    "    \n",
    "    note: ideally, features will already be normalized!\n",
    "    \"\"\"\n",
    "    \n",
    "    # return prediction\n",
    "    return 1.0 / (1.0 + np.exp(-np.matmul(X, theta)))"
   ]
  },
  {
   "cell_type": "code",
   "execution_count": 16,
   "metadata": {},
   "outputs": [],
   "source": [
    "# define logistic regression cost function\n",
    "def logistic_regression_cost(theta, X, y, l = 0.0):\n",
    "    \"\"\"\n",
    "    logistic_regression_cost computes the cost function for\n",
    "    the logistic regression, such that the cost equals the\n",
    "    mean over -log(pred(theta, X)) for y == 1 and\n",
    "    -log(1 - pred(theta, X)) for y == 0.\n",
    "    \n",
    "    input parameters:\n",
    "        theta   - weights for the columns in X\n",
    "        X       - design matrix (column of 1's and features)\n",
    "        y       - observed output (either 0 or 1 for each y[m])\n",
    "        [l]     - optional regularization lambda (>= 0.0)\n",
    "    \n",
    "    output:\n",
    "        J       - logistic regression cost J\n",
    "        Jg      - partial derivaties (gradient) w.r.t. theta\n",
    "    \"\"\"\n",
    "    \n",
    "    # compute two terms\n",
    "    p = logistic_regression_prediction(theta, X)\n",
    "    p[p == 0] = 2.3e-16\n",
    "    p[p == 1] = 1.0 - 2.3e-16\n",
    "    e = p - y\n",
    "    log1 = np.log(p)\n",
    "    log0 = np.log(1.0 - p)\n",
    "    \n",
    "    # compute cost without lambda\n",
    "    if l <= 0.0:\n",
    "        J = (-1.0 / e.size) * (np.matmul(log1, y) + np.matmul(log0, 1.0 - y))\n",
    "        Jg = (1.0 / e.size) * (np.matmul(X.T, e))\n",
    "    else:\n",
    "        J = ((-1.0 / e.size) * (np.matmul(log1, y) + np.matmul(log0, 1.0 - y)) +\n",
    "             (l / (2.0 * e.size)) * jit_array_sum(np.multiply(theta[1:], theta[1:])))\n",
    "        tc = l * theta\n",
    "        tc[0] = 0.0\n",
    "        Jg = (1.0 / e.size) * (np.matmul(X.T, e) + tc)\n",
    "    return J, Jg"
   ]
  },
  {
   "cell_type": "markdown",
   "metadata": {},
   "source": [
    "Create a derived (logistic suitable) example data set:"
   ]
  },
  {
   "cell_type": "code",
   "execution_count": 17,
   "metadata": {},
   "outputs": [],
   "source": [
    "# assign some values\n",
    "y_mean = np.mean(y)\n",
    "y_binary = y\n",
    "y_binary[y < y_mean] = 0.0\n",
    "y_binary[y != 0.0] = 1.0"
   ]
  },
  {
   "cell_type": "code",
   "execution_count": 18,
   "metadata": {},
   "outputs": [
    {
     "name": "stdout",
     "output_type": "stream",
     "text": [
      "[-0.17319389  1.23333884]\n"
     ]
    }
   ],
   "source": [
    "# find thetas\n",
    "final_t, t_vals, c_vals = gradient_desc(\n",
    "    logistic_regression_cost, t, X, y_binary, reg_lambda, learning_rate=learn_rate)\n",
    "\n",
    "# print final_t\n",
    "print(final_t)"
   ]
  },
  {
   "cell_type": "code",
   "execution_count": 19,
   "metadata": {},
   "outputs": [
    {
     "data": {
      "image/png": "[encoded data removed]",
      "text/plain": [
       "<Figure size 480x320 with 2 Axes>"
      ]
     },
     "metadata": {},
     "output_type": "display_data"
    }
   ],
   "source": [
    "# start a figure\n",
    "plt.figure(num=None, figsize=(6, 4), dpi=80, facecolor='w', edgecolor='k')\n",
    "\n",
    "# plot (with two sub-plots)\n",
    "plt.subplot(2, 1, 1)\n",
    "plt.plot(t_vals)\n",
    "plt.title('Theta values / iteration')\n",
    "plt.ylabel('theta')\n",
    "\n",
    "plt.subplot(2, 1, 2)\n",
    "plt.plot(c_vals)\n",
    "plt.xlabel('iteration number')\n",
    "plt.ylabel('cost function')\n",
    "plt.show()"
   ]
  },
  {
   "cell_type": "markdown",
   "metadata": {},
   "source": [
    "Scatter values of X[:,1] (feature) /vs/ y_binary"
   ]
  },
  {
   "cell_type": "code",
   "execution_count": 20,
   "metadata": {},
   "outputs": [
    {
     "data": {
      "image/png": "[encoded data removed]",
      "text/plain": [
       "<Figure size 480x240 with 1 Axes>"
      ]
     },
     "metadata": {},
     "output_type": "display_data"
    }
   ],
   "source": [
    "# start a figure\n",
    "plt.figure(num=None, figsize=(6, 3), dpi=80, facecolor='w', edgecolor='k')\n",
    "\n",
    "# plot\n",
    "plt.plot(X[:, 1], y_binary, 'rx')\n",
    "plt.title('classification example')\n",
    "plt.xlabel('feature value')\n",
    "plt.ylabel('class')\n",
    "\n",
    "# add logistic (sigmoid) function\n",
    "Xs = np.empty([1000, 2])\n",
    "Xs[:, 0] = 1\n",
    "Xs[:, 1] = np.linspace(np.min(X[:, 1]), np.max(X[:, 1]), 1000)\n",
    "plt.plot(Xs[:, 1], logistic_regression_prediction(final_t, Xs), '-k')\n",
    "plt.show()"
   ]
  }
 ],
 "metadata": {
  "kernelspec": {
   "display_name": "Python 3",
   "language": "python",
   "name": "python3"
  },
  "language_info": {
   "codemirror_mode": {
    "name": "ipython",
    "version": 3
   },
   "file_extension": ".py",
   "mimetype": "text/x-python",
   "name": "python",
   "nbconvert_exporter": "python",
   "pygments_lexer": "ipython3",
   "version": "3.7.1"
  }
 },
 "nbformat": 4,
 "nbformat_minor": 2
}
