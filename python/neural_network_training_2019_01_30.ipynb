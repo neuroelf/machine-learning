{
 "cells": [
  {
   "cell_type": "markdown",
   "metadata": {},
   "source": [
    "# jupyter notebook related to __[coursera ML course](https://www.coursera.org/learn/machine-learning/)__\n",
    "\n",
    "The course uses MATLAB, and so the main task here is\n",
    "translating the MATLAB code for the various functions\n",
    "(in this case neural network learning) to a python\n",
    "version.\n",
    "\n",
    "I'm adding a new version of the notebook for every\n",
    "week, as a convenience for myself to see the progress,\n",
    "rather than having to go through the history on github."
   ]
  },
  {
   "cell_type": "markdown",
   "metadata": {},
   "source": [
    "### Settings (put at the top for ease of changing)"
   ]
  },
  {
   "cell_type": "code",
   "execution_count": 1,
   "metadata": {},
   "outputs": [],
   "source": [
    "# network configuration\n",
    "layer1 = [25, 401]\n",
    "layer2 = [10, 26]\n",
    "layers = (layer1, layer2)"
   ]
  },
  {
   "cell_type": "code",
   "execution_count": 2,
   "metadata": {},
   "outputs": [],
   "source": [
    "# data from binary files\n",
    "import numpy as np\n",
    "X = np.fromfile('mnist_5000_20_20.bin', dtype=np.uint8, count=5000*20*20).reshape((5000, 400)).astype(np.float64)\n",
    "y = np.fromfile('mnist_5000_20_20_lab.bin', dtype=np.uint8, count=5000) - 1\n",
    "Y = np.zeros([y.size, 10])\n",
    "for c in range(10):\n",
    "    Y[y==c, c] = 1.0"
   ]
  },
  {
   "cell_type": "code",
   "execution_count": 3,
   "metadata": {},
   "outputs": [],
   "source": [
    "# sigmoid function\n",
    "def sigmoid(z):\n",
    "    return np.true_divide(1.0, 1.0 + np.exp(-z))"
   ]
  },
  {
   "cell_type": "code",
   "execution_count": 4,
   "metadata": {},
   "outputs": [],
   "source": [
    "# define a cost function for the network\n",
    "def networkcost(theta, X, Y, l, shapes):\n",
    "    \n",
    "    # copy out thetas\n",
    "    thetas = []\n",
    "    ti = 0\n",
    "    for s in shapes:\n",
    "        thetas.append(theta[ti:ti+np.prod(s)].reshape(s))\n",
    "        ti += np.prod(s)\n",
    "    \n",
    "    # transpose Y if necessary\n",
    "    if thetas[-1].shape[0] == Y.shape[1]:\n",
    "        Y = Y.T\n",
    "    \n",
    "    # number of samples\n",
    "    m = Y.shape[1]\n",
    "    \n",
    "    # prepare arrays\n",
    "    Xt = []\n",
    "    d = []\n",
    "    grad = []\n",
    "    \n",
    "    # transpose X if necessary\n",
    "    if X.shape[0] == m:\n",
    "        Xt.append(X.T)\n",
    "    else:\n",
    "        Xt.append(X)\n",
    "    \n",
    "    # sum over theta squared\n",
    "    tss = 0.0\n",
    "    \n",
    "    # forward prop\n",
    "    for tc in range(len(thetas)):\n",
    "        \n",
    "        # add bias units\n",
    "        if Xt[tc].shape[0] < thetas[tc].shape[1]:\n",
    "            Xt[tc] = np.concatenate((np.ones((1, Xt[tc].shape[1])), Xt[tc]))\n",
    "        Xt.append(sigmoid(np.matmul(thetas[tc], Xt[tc])))\n",
    "        \n",
    "        # square theta\n",
    "        tsq = np.multiply(thetas[tc], thetas[tc])\n",
    "        tss += l * np.sum(tsq)\n",
    "    \n",
    "    # output layer\n",
    "    p = Xt[-1]\n",
    "    \n",
    "    # sanity replacements\n",
    "    p[p==0] = 2.3e-16\n",
    "    p[p==1] = 1.0 - 2.3e16\n",
    "    \n",
    "    # first delta\n",
    "    d = [p - Y]\n",
    "    \n",
    "    # cost\n",
    "    J = (-1.0 / m) * np.sum(np.multiply(Y, np.log(p)) + np.multiply(1.0 - Y, np.log(1.0 - p))) + (0.5 / m) * tss\n",
    "    \n",
    "    grad = np.zeros(theta.size)\n",
    "    return J, grad, p"
   ]
  },
  {
   "cell_type": "code",
   "execution_count": 5,
   "metadata": {},
   "outputs": [],
   "source": [
    "# random theta\n",
    "theta = 0.5 - np.random.rand(np.prod(layer1) + np.prod(layer2))"
   ]
  },
  {
   "cell_type": "code",
   "execution_count": 6,
   "metadata": {},
   "outputs": [
    {
     "data": {
      "text/plain": [
       "7.4664772037234135"
      ]
     },
     "execution_count": 6,
     "metadata": {},
     "output_type": "execute_result"
    }
   ],
   "source": [
    "J, g, p = networkcost(theta, X, Y, 1.0e-4, layers)\n",
    "J"
   ]
  }
 ],
 "metadata": {
  "kernelspec": {
   "display_name": "Python 3",
   "language": "python",
   "name": "python3"
  },
  "language_info": {
   "codemirror_mode": {
    "name": "ipython",
    "version": 3
   },
   "file_extension": ".py",
   "mimetype": "text/x-python",
   "name": "python",
   "nbconvert_exporter": "python",
   "pygments_lexer": "ipython3",
   "version": "3.7.1"
  }
 },
 "nbformat": 4,
 "nbformat_minor": 2
}
