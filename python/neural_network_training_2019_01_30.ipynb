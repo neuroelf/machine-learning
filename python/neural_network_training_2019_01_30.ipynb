{
 "cells": [
  {
   "cell_type": "markdown",
   "metadata": {},
   "source": [
    "# jupyter notebook related to __[coursera ML course](https://www.coursera.org/learn/machine-learning/)__\n",
    "\n",
    "The course uses MATLAB, and so the main task here is\n",
    "translating the MATLAB code for the various functions\n",
    "(in this case neural network learning) to a python\n",
    "version.\n",
    "\n",
    "I'm adding a new version of the notebook for every\n",
    "week, as a convenience for myself to see the progress,\n",
    "rather than having to go through the history on github."
   ]
  },
  {
   "cell_type": "markdown",
   "metadata": {},
   "source": [
    "### Settings (put at the top for ease of changing)"
   ]
  },
  {
   "cell_type": "code",
   "execution_count": 1,
   "metadata": {},
   "outputs": [],
   "source": [
    "# network configuration\n",
    "layer1 = [25, 401]\n",
    "layer2 = [10, 26]\n",
    "layers = (layer1, layer2)\n",
    "\n",
    "# regularization\n",
    "reglambda = 0.1\n",
    "\n",
    "# stopping criterion\n",
    "stop_crit = 1.0e-8"
   ]
  },
  {
   "cell_type": "code",
   "execution_count": 2,
   "metadata": {},
   "outputs": [],
   "source": [
    "# data from binary files\n",
    "import numpy as np\n",
    "X = (1.0 / 255.0) * np.fromfile('mnist_5000_20_20.bin', dtype=np.uint8, count=5000*20*20).reshape((5000, 400), order='F').astype(np.float64)\n",
    "y = np.fromfile('mnist_5000_20_20_lab.bin', dtype=np.uint8, count=5000) - 1\n",
    "Y = np.zeros([y.size, 10])\n",
    "for c in range(10):\n",
    "    Y[y==c, c] = 1.0"
   ]
  },
  {
   "cell_type": "markdown",
   "metadata": {},
   "source": [
    "Reusing the gradient descent function"
   ]
  },
  {
   "cell_type": "code",
   "execution_count": 3,
   "metadata": {},
   "outputs": [],
   "source": [
    "# gradient descent for a cost-function\n",
    "import math\n",
    "def gradient_desc(fun, theta, *args, learning_rate = 0.1, maxiter = 500):\n",
    "    \"\"\"\n",
    "    \"\"\"\n",
    "    # create theta_copy\n",
    "    theta_copy = theta.copy()\n",
    "    \n",
    "    # compute initial cost, and figure out if gradients\n",
    "    # are returned as well\n",
    "    fun_with_grads = False\n",
    "    cost0 = fun(theta, *args)\n",
    "    if type(cost0) == tuple:\n",
    "        fun_with_grads = True\n",
    "        theta_grads = cost0[1]\n",
    "        cost0 = cost0[0]\n",
    "    else:\n",
    "        theta_grads = pgrads_of_fun_for_theta(fun, theta_copy, *args)\n",
    "    \n",
    "    # values over time\n",
    "    cost_vals = np.empty((maxiter, 1))\n",
    "    cost_vals[:] = np.nan\n",
    "    \n",
    "    # iterate\n",
    "    iter = 0;\n",
    "    while iter < maxiter:\n",
    "        \n",
    "        # store values\n",
    "        cost_vals[iter] = cost0\n",
    "\n",
    "        # update theta based on learning rate\n",
    "        theta_copy = theta_copy - learning_rate * theta_grads\n",
    "        \n",
    "        # compute new cost\n",
    "        if fun_with_grads:\n",
    "            cost = fun(theta_copy, *args)\n",
    "            theta_grads = cost[1]\n",
    "            cost = cost[0]\n",
    "        else:\n",
    "            cost = fun(theta_copy, *args)\n",
    "            theta_grads = pgrads_of_fun_for_theta(fun, theta_copy, *args)\n",
    "        \n",
    "        # if difference smaller criterion\n",
    "        if math.fabs(cost0 - cost) < stop_crit:\n",
    "            break\n",
    "        \n",
    "        # update cost\n",
    "        cost0 = cost\n",
    "        iter = iter + 1\n",
    "    \n",
    "    # store last value?\n",
    "    if iter < maxiter:\n",
    "        cost_vals[iter] = cost\n",
    "\n",
    "    # return theta_copy and cost_vals\n",
    "    return (theta_copy, cost_vals)"
   ]
  },
  {
   "cell_type": "code",
   "execution_count": 4,
   "metadata": {},
   "outputs": [],
   "source": [
    "# sigmoid function\n",
    "def sigmoid(z):\n",
    "    return np.true_divide(1.0, 1.0 + np.exp(-z))"
   ]
  },
  {
   "cell_type": "code",
   "execution_count": 5,
   "metadata": {},
   "outputs": [],
   "source": [
    "# define a cost function for the network\n",
    "def networkcost(theta, X, Y, l, shapes):\n",
    "    \n",
    "    # copy out thetas\n",
    "    thetas = []\n",
    "    ti = 0\n",
    "    for s in shapes:\n",
    "        thetas.append(theta[ti:ti+np.prod(s)].reshape(s, order='F'))\n",
    "        ti += np.prod(s)\n",
    "    \n",
    "    # transpose Y if necessary\n",
    "    if thetas[-1].shape[0] == Y.shape[1]:\n",
    "        Y = Y.T\n",
    "    \n",
    "    # number of samples\n",
    "    m = Y.shape[1]\n",
    "    \n",
    "    # prepare arrays\n",
    "    Xt = []\n",
    "    d = [None] * (len(thetas)+1)\n",
    "    grads = [None] * (len(thetas))\n",
    "    \n",
    "    # transpose X if necessary\n",
    "    if X.shape[0] == m:\n",
    "        Xt.append(X.T)\n",
    "    else:\n",
    "        Xt.append(X)\n",
    "    \n",
    "    # sum over theta squared\n",
    "    tss = 0.0\n",
    "    \n",
    "    # forward prop\n",
    "    for tc in range(len(thetas)):\n",
    "        \n",
    "        # add bias units\n",
    "        if Xt[tc].shape[0] < thetas[tc].shape[1]:\n",
    "            Xt[tc] = np.concatenate((np.ones((1, Xt[tc].shape[1])), Xt[tc]))\n",
    "        Xt.append(sigmoid(np.matmul(thetas[tc], Xt[tc])))\n",
    "        \n",
    "        # square theta\n",
    "        tsq = np.multiply(thetas[tc], thetas[tc])\n",
    "        tss += l * np.sum(tsq[:,1:])\n",
    "    \n",
    "    # output layer\n",
    "    p = Xt[-1]\n",
    "    \n",
    "    # sanity replacements\n",
    "    p[p==0] = 2.3e-16\n",
    "    p[p==1] = 1.0 - 2.3e16\n",
    "    \n",
    "    # first delta\n",
    "    d[len(thetas)] = p - Y\n",
    "    \n",
    "    # cost\n",
    "    mm = (1.0 / m)\n",
    "    J = (-mm) * np.sum(np.multiply(Y, np.log(p)) + np.multiply(1.0 - Y, np.log(1.0 - p))) + (0.5 / m) * tss\n",
    "    \n",
    "    # backprop\n",
    "    for tc in range(len(thetas)-1, -1, -1):\n",
    "        if tc > 0:\n",
    "            Xi = np.multiply(Xt[tc], 1.0 - Xt[tc])\n",
    "            d[tc] = np.multiply(np.matmul(thetas[tc][:,1:].T, d[tc+1]), Xi[1:,:])\n",
    "        g = mm * np.matmul(d[tc+1], Xt[tc].T)\n",
    "        lm = (mm * l) * np.ones(thetas[tc].shape)\n",
    "        lm[:, 0] = 0.0\n",
    "        if g.shape[0] == thetas[tc].shape[0]:\n",
    "            grads[tc] = g + np.multiply(lm, thetas[tc])\n",
    "        else:\n",
    "            grads[tc] = g[1:, :] + np.multiply(lm, thetas[tc])\n",
    "    \n",
    "    # packing gradients\n",
    "    ti = 0\n",
    "    gc = 0\n",
    "    grad = np.zeros(theta.size)\n",
    "    for s in shapes:\n",
    "        tnum = np.prod(s)\n",
    "        grad[ti:ti+tnum] = grads[gc].reshape(tnum, order='F')\n",
    "        ti += tnum\n",
    "        gc += 1\n",
    "    \n",
    "    # formalize prediction (from values to class choice)\n",
    "    p = np.argmax(p, 0).reshape(m)\n",
    "    \n",
    "    # return outputs\n",
    "    return J, grad, p"
   ]
  },
  {
   "cell_type": "code",
   "execution_count": 7,
   "metadata": {},
   "outputs": [],
   "source": [
    "# random theta\n",
    "np.random.seed(0)\n",
    "theta = 0.5 - np.random.rand(np.prod(layer1) + np.prod(layer2))"
   ]
  },
  {
   "cell_type": "code",
   "execution_count": 8,
   "metadata": {},
   "outputs": [
    {
     "data": {
      "text/plain": [
       "8.682273156349645"
      ]
     },
     "execution_count": 8,
     "metadata": {},
     "output_type": "execute_result"
    }
   ],
   "source": [
    "# initial cost\n",
    "J, g, p = networkcost(theta, X, Y, reglambda, layers)\n",
    "J"
   ]
  },
  {
   "cell_type": "code",
   "execution_count": 9,
   "metadata": {},
   "outputs": [],
   "source": [
    "# run 25000 iterations gradient descent\n",
    "(theta, cost_v) = gradient_desc(networkcost, theta, X, Y, reglambda, layers, learning_rate = 0.01, maxiter = 25000)"
   ]
  },
  {
   "cell_type": "code",
   "execution_count": 10,
   "metadata": {},
   "outputs": [
    {
     "data": {
      "text/plain": [
       "0.6825470331837984"
      ]
     },
     "execution_count": 10,
     "metadata": {},
     "output_type": "execute_result"
    }
   ],
   "source": [
    "# new cost\n",
    "J, g, p = networkcost(theta, X, Y, reglambda, layers)\n",
    "J"
   ]
  },
  {
   "cell_type": "code",
   "execution_count": 12,
   "metadata": {},
   "outputs": [
    {
     "data": {
      "image/png": "[encoded data removed]",
      "text/plain": [
       "<Figure size 480x320 with 1 Axes>"
      ]
     },
     "metadata": {},
     "output_type": "display_data"
    }
   ],
   "source": [
    "# plot cost over time\n",
    "import matplotlib.pyplot as plt\n",
    "\n",
    "# set some plotting parameters (font size)\n",
    "plt.rcParams.update({'font.size': 12})\n",
    "\n",
    "# start a figure\n",
    "plt.figure(num=None, figsize=(6, 4), dpi=80, facecolor='w', edgecolor='k')\n",
    "plt.plot(cost_v)\n",
    "plt.title('Cost function over iterations')\n",
    "plt.xlabel('# of iterations')\n",
    "plt.ylabel('cost function (a.u.)')\n",
    "plt.show()"
   ]
  },
  {
   "cell_type": "code",
   "execution_count": 14,
   "metadata": {},
   "outputs": [
    {
     "data": {
      "text/plain": [
       "0.9144"
      ]
     },
     "execution_count": 14,
     "metadata": {},
     "output_type": "execute_result"
    }
   ],
   "source": [
    "# accuracy (training set!, not cross-validation!)\n",
    "np.sum(p==y) / len(p)"
   ]
  },
  {
   "cell_type": "code",
   "execution_count": null,
   "metadata": {},
   "outputs": [],
   "source": []
  }
 ],
 "metadata": {
  "kernelspec": {
   "display_name": "Python 3",
   "language": "python",
   "name": "python3"
  },
  "language_info": {
   "codemirror_mode": {
    "name": "ipython",
    "version": 3
   },
   "file_extension": ".py",
   "mimetype": "text/x-python",
   "name": "python",
   "nbconvert_exporter": "python",
   "pygments_lexer": "ipython3",
   "version": "3.7.1"
  }
 },
 "nbformat": 4,
 "nbformat_minor": 2
}
